{
 "cells": [
  {
   "cell_type": "code",
   "execution_count": 7,
   "metadata": {
    "collapsed": false
   },
   "outputs": [
    {
     "name": "stdout",
     "output_type": "stream",
     "text": [
      "\n",
      "Yellow/Green Line: Normal service has resumed at Archives.\n",
      "\n",
      "Yellow/Green Line: Expect residual delays to Mount Vernon Square & Greenbelt due to earlier police activity at Archives.\n",
      "\n",
      "Orange Line: Normal service has resumed at Dunn Loring.\n",
      "\n",
      "Orange Line: Expect residual delays to New Carrollton due to an earlier train malfunction at Dunn Loring.\n",
      "\n",
      "Orange Line: Expect delays to New Carrollton due to a disabled train at Dunn Loring.\n",
      "\n",
      "Green Line: Normal service has resumed between Fort Totten & Prince George's Plaza.\n",
      "\n",
      "Org/Blu/Sil Line: Normal service has resumed at Farragut West.\n",
      "\n",
      "Org/Blu/Sil Line: Expect residual delays to Largo Town Center & New Carrollton due to an earlier track problem outside Farragut West.\n",
      "\n",
      "Blue/Silver/Orange Line: Normal service has resumed outside Stadium-Armory.\n",
      "\n",
      "Green Line: Delays possible in both directions due to scheduled track work btwn Ft. Totten & Prince George's Plaza.\n",
      "\n",
      "Blue/Silver/Orange Line: Expect residual delays in both directions due to an earlier switch problem outside Stadium-Armory.\n",
      "\n",
      "Blue/Silver/Orange: Due to a switch problem outside Stadium-Armory, trains are experiencing delays in both directions. 10:14a \n",
      "\n",
      "Blue/Silver/Orange Line: Expect delays in both directions due to a switch problem outside Stadium-Armory.\n",
      "\n",
      "Blu/Sil/Org Line: Expect delays to Vienna, Franconia, & Wiehle-Reston East due to a switch problem outside Stadium-Armory.\n",
      "\n",
      "Yellow Line: All trains are operating btwn Huntington & Mt Vernon Sq only due to scheduled track work near Fort Totten.\n",
      "\n",
      "Red Line: Normal service has resumed outside Friendship Heights.\n",
      "\n",
      "Red Line: No longer single tracking. Residual delays continue in both directions due to an earlier track problem outside Friendship Hghts.\n",
      "\n",
      "Red Line-good track inspection, 2-track service resuming Friendship Heights to Medical Center. 8:47a \n",
      "\n",
      "Red Line: Outbound trains are bypassing Bethesda to reduce single tracking delays. Use inbound trains for this station.\n",
      "\n",
      "Red Line: Single tracking btwn Friendship Hghts & Medical Ctr due to a track problem outside Friendship Hghts. Delays in both directions.\n"
     ]
    }
   ],
   "source": [
    "import pandas as pd\n",
    "import requests\n",
    "import lxml.html\n",
    "from lxml.html.clean import Cleaner\n",
    "import re\n",
    "#import json\n",
    "from time import sleep\n",
    "from random import randint\n",
    "import csv\n",
    "\n",
    "\n",
    "url = 'https://twitter.com/metrorailinfo'\n",
    "headers = {'User-agent':'Mozilla/5.0 (X11; U; Linux i686; en-US; rv:1.9.0.1) Gecko/2008071615 Fedora/3.0.1-1.fc9 Firefox/3.0.1'}\n",
    "\n",
    "r = requests.get(url, headers=headers)\n",
    "doc = lxml.html.fromstring(r.content)\n",
    "\n",
    "# <div class=\"js-tweet-text-container\">\n",
    "#   <p class=\"TweetTextSize TweetTextSize--16px js-tweet-text tweet-text\" lang=\"en\" data-aria-label-part=\"0\">Yellow/Green Line: Normal service has resumed at Archives.</p>\n",
    "# </div>\n",
    "\n",
    "for tweet in doc.cssselect('.js-tweet-text-container p'):\n",
    "    print()\n",
    "    print(tweet.text)\n",
    "\n",
    "\n",
    "#doc\n",
    "    \n",
    "    "
   ]
  },
  {
   "cell_type": "code",
   "execution_count": null,
   "metadata": {
    "collapsed": true
   },
   "outputs": [],
   "source": []
  }
 ],
 "metadata": {
  "kernelspec": {
   "display_name": "Python 3",
   "language": "python",
   "name": "python3"
  },
  "language_info": {
   "codemirror_mode": {
    "name": "ipython",
    "version": 3
   },
   "file_extension": ".py",
   "mimetype": "text/x-python",
   "name": "python",
   "nbconvert_exporter": "python",
   "pygments_lexer": "ipython3",
   "version": "3.5.1"
  }
 },
 "nbformat": 4,
 "nbformat_minor": 0
}
